{
 "cells": [
  {
   "cell_type": "code",
   "execution_count": 46,
   "id": "7b485886-fe44-4a05-87fb-75e31f3fcd1b",
   "metadata": {},
   "outputs": [],
   "source": [
    "import numpy as np"
   ]
  },
  {
   "cell_type": "code",
   "execution_count": 47,
   "id": "90ed2edd-45a7-4c61-8371-391a2444e4fc",
   "metadata": {},
   "outputs": [],
   "source": [
    "class Perceptron():\n",
    "    def __init__(self, example, thresholds=0.5, alpha=0.2, n_iter=100):\n",
    "        self.thresholds = thresholds\n",
    "        self.alpha = alpha\n",
    "        self.n_iter = n_iter\n",
    "        self.example = example\n",
    "\n",
    "    def predict(self, x):        \n",
    "        sum = np.sum(x*self.W)\n",
    "        out = 1 if sum > self.thresholds else 0\n",
    "        return out\n",
    "\n",
    "    def show_weight(self):\n",
    "        print(self.W)\n",
    "\n",
    "    def train(self, x, F):\n",
    "        self.W = np.array([0.1, 0.3])\n",
    "        \n",
    "        for i in range(self.n_iter) :\n",
    "            \n",
    "            weightSum = 0.0\n",
    "            for i in range(len(x)):\n",
    "                Y = self.predict(x[i])\n",
    "                d = F[i] - Y                \n",
    "                self.W = self.W + (self.alpha * d * x[i])\n",
    "\n",
    "                weightSum = weightSum + d\n",
    "\n",
    "            if weightSum == 0.0:\n",
    "                break;"
   ]
  },
  {
   "cell_type": "code",
   "execution_count": 48,
   "id": "2cb5181d-a2d6-471a-9a9d-eae52055a23e",
   "metadata": {},
   "outputs": [
    {
     "name": "stdout",
     "output_type": "stream",
     "text": [
      "Model Trainning...\n",
      "Weights: \n",
      "[0.7 0.7]\n",
      "Prediction:  [0 0] 0\n",
      "Prediction:  [0 1] 1\n",
      "Prediction:  [1 0] 1\n",
      "Prediction:  [1 1] 1\n"
     ]
    }
   ],
   "source": [
    "if __name__ == \"__main__\":\n",
    "    example = 'OR'\n",
    "    F = {'AND': np.array([0,0,0,1]), 'OR': np.array([0,1,1,1])}\n",
    "\n",
    "    x = np.array([[0,0], [0,1], [1,0], [1,1]])\n",
    "\n",
    "    F = F[example]\n",
    "    model = Perceptron(alpha=0.2, n_iter=100, example=example)\n",
    "\n",
    "    print('Model Trainning...')\n",
    "    model.train(x, F)\n",
    "\n",
    "    print('Weights: ')\n",
    "    model.show_weight()\n",
    "\n",
    "    for xi in x:\n",
    "        yi = model.predict(xi)\n",
    "        print('Prediction: ', xi, yi)"
   ]
  },
  {
   "cell_type": "code",
   "execution_count": null,
   "id": "9105c451-b753-4333-ab3f-5e95b6ece288",
   "metadata": {},
   "outputs": [],
   "source": []
  }
 ],
 "metadata": {
  "kernelspec": {
   "display_name": "Python 3 (ipykernel)",
   "language": "python",
   "name": "python3"
  },
  "language_info": {
   "codemirror_mode": {
    "name": "ipython",
    "version": 3
   },
   "file_extension": ".py",
   "mimetype": "text/x-python",
   "name": "python",
   "nbconvert_exporter": "python",
   "pygments_lexer": "ipython3",
   "version": "3.10.4"
  }
 },
 "nbformat": 4,
 "nbformat_minor": 5
}
